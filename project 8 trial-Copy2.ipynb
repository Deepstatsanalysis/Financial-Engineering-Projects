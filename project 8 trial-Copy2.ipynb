{
 "cells": [
  {
   "cell_type": "code",
   "execution_count": 215,
   "metadata": {
    "collapsed": true
   },
   "outputs": [],
   "source": [
    "from numpy import *\n",
    "from scipy.special import erf\n",
    "from scipy import optimize\n",
    "from scipy.stats import norm,chi2\n",
    "random.seed(1)"
   ]
  },
  {
   "cell_type": "markdown",
   "metadata": {},
   "source": [
    "# P1 Given the following SDE (Vasicek model)\n",
    "$$\n",
    "\\\\\n",
    "dr_t = \\kappa(\\overline{r} - r_t)dt + \\sigma dW_t\n",
    "\\\\\n",
    "$$\n",
    "with $r_0 = 5\\%, \\sigma = 10\\%, \\kappa = 0.82, \\overline{r} = 5\\%$"
   ]
  },
  {
   "cell_type": "code",
   "execution_count": 2,
   "metadata": {
    "collapsed": true
   },
   "outputs": [],
   "source": [
    "# set parameter for P1 Vasicek Model dynamics\n",
    "param_P1 = {\"r0\": 0.05, \"sigma\": 0.10, \"kappa\": 0.82, \"r_bar\": 0.05}"
   ]
  },
  {
   "cell_type": "markdown",
   "metadata": {},
   "source": [
    "## (a) Price ZCB using Monte Carlo Simulation at t = 0\n",
    "### Monte Carlo Simulation with 50000 paths\n",
    "With face value of \\$1000, maturing in T = 0.5 years"
   ]
  },
  {
   "cell_type": "code",
   "execution_count": 34,
   "metadata": {
    "collapsed": true
   },
   "outputs": [],
   "source": [
    "def ZCB_Vasicek_MC(t, T, rt, simu_paths, **param):\n",
    "    # Vasicek model parameters\n",
    "#     r0 = param['r0']\n",
    "    sigma = param['sigma']\n",
    "    kappa = param['kappa']\n",
    "    r_bar = param['r_bar']\n",
    "    \n",
    "    t_steps = int(floor(365*(T-t)))\n",
    "    dt = T / float(t_steps)\n",
    "    # mark the evaluation time step\n",
    "#     at_time_step = int(floor(365*at_time)) + 1\n",
    "    \n",
    "    # stochastic part\n",
    "    dW_t = sqrt(dt) * random.standard_normal((t_steps, simu_paths))\n",
    "    \n",
    "    # Vasicek dynamics to calculate short interest rate\n",
    "    r = zeros((t_steps+1, simu_paths))\n",
    "    r[0] = ones(simu_paths) * rt\n",
    "    for i in range(t_steps):\n",
    "        r[i+1] = r[i] + kappa*(r_bar - r[i])*dt + sigma*dW_t[i]\n",
    "    \n",
    "    # discount factor at the evaluation time\n",
    "    R = - dt * sum(r[1:], axis = 0)\n",
    "    \n",
    "    value = mean(exp(R)) # dollar value at time t\n",
    "    rT = r[-1]\n",
    "    return value, R, rT"
   ]
  },
  {
   "cell_type": "code",
   "execution_count": 202,
   "metadata": {},
   "outputs": [
    {
     "name": "stdout",
     "output_type": "stream",
     "text": [
      "The bond price calculated by Monte Carlo simulation is 975.37700229\n"
     ]
    }
   ],
   "source": [
    "p1a,_,_ = ZCB_Vasicek_MC(0, 0.5, param_P1['r0'], 50000, **param_P1)\n",
    "print('The bond price calculated by Monte Carlo simulation is', p1a*1000)"
   ]
  },
  {
   "cell_type": "markdown",
   "metadata": {},
   "source": [
    "### Explicit Formula for Answer Check"
   ]
  },
  {
   "cell_type": "code",
   "execution_count": 105,
   "metadata": {
    "collapsed": true
   },
   "outputs": [],
   "source": [
    "def ZCB_Vasicek(t, T, rt, **param):\n",
    "    # Vasicek model parameters\n",
    "    A = factor_A(t, T, **param)\n",
    "    B = factor_B(t, T, **param)\n",
    "    P = A * exp(-B*rt)\n",
    "    return P\n",
    "def factor_B(t, T, **param):\n",
    "    kappa = param['kappa']\n",
    "    return (1 - exp(-kappa*(T-t)))/kappa\n",
    "def factor_A(t, T, **param):\n",
    "    sigma = param['sigma']\n",
    "    kappa = param['kappa']\n",
    "    r_bar = param['r_bar']\n",
    "    A = exp((r_bar - sigma**2 / (2*kappa**2)) * \\\n",
    "        (factor_B(t, T, **param) - (T-t)) - sigma**2 / (4*kappa) * factor_B(t, T, **param)**2)\n",
    "    return A"
   ]
  },
  {
   "cell_type": "code",
   "execution_count": 203,
   "metadata": {},
   "outputs": [
    {
     "name": "stdout",
     "output_type": "stream",
     "text": [
      "The bond price calculated by explicit formula is 975.461028359\n"
     ]
    }
   ],
   "source": [
    "p1a_analytial = ZCB_Vasicek(0, 0.5, param_P1['r0'], **param_P1)\n",
    "print('The bond price calculated by explicit formula is',p1a_analytial*1000)"
   ]
  },
  {
   "cell_type": "markdown",
   "metadata": {},
   "source": [
    "## (b) Price Coupon Paying Bond using Monte Carlo Simulation at t = 0\n",
    "### Monte Carlo Simulation with 50000 paths\n",
    "With face value of \\$1000, semmiannual coupons of \\$30, maturing in T = 4 years"
   ]
  },
  {
   "cell_type": "code",
   "execution_count": 175,
   "metadata": {
    "collapsed": true
   },
   "outputs": [],
   "source": [
    "def SemiCB_Vasicek_MC(coupon_rate, maturity, simu_paths, **param):\n",
    "    # Vasicek model parameters\n",
    "    r0 = param['r0']\n",
    "    sigma = param['sigma']\n",
    "    kappa = param['kappa']\n",
    "    r_bar = param['r_bar']\n",
    "    \n",
    "    time_period = int(maturity * 2)\n",
    "    \n",
    "    T = linspace(0.5, maturity, time_period)\n",
    "    coupons = append(ones(time_period-1) * coupon_rate, 1 + coupon_rate)\n",
    "    \n",
    "    values = asarray([])\n",
    "    for T_ in T:\n",
    "        # evaluate for each decomposed ZCB\n",
    "        value, _, _ = ZCB_Vasicek_MC(0, T_, r0, simu_paths, **param)\n",
    "        values = append(values, value)\n",
    "\n",
    "    price = sum(multiply(values, coupons))\n",
    "    return price"
   ]
  },
  {
   "cell_type": "code",
   "execution_count": 176,
   "metadata": {},
   "outputs": [
    {
     "name": "stdout",
     "output_type": "stream",
     "text": [
      "The coupon paying bond price calculated by Monte Carlo simulation is 1048.53296921\n"
     ]
    }
   ],
   "source": [
    "p1b = SemiCB_Vasicek_MC(0.03, 4, 50000, **param_P1)\n",
    "print('The coupon paying bond price calculated by Monte Carlo simulation is', p1b*1000)"
   ]
  },
  {
   "cell_type": "markdown",
   "metadata": {},
   "source": [
    "## (c) Price European Call option on ZCB in part (a) using Monte Carlo Simulation at t = 0\n",
    "With option maturity of 3 monts and strike price K = \\$980. Explicit formula for underlying bond price.\n"
   ]
  },
  {
   "cell_type": "code",
   "execution_count": 146,
   "metadata": {},
   "outputs": [],
   "source": [
    "def ZCB_Euro_Call_Vasicek_MC(face_value, strike_price, bond_maturity, option_maturity, simu_paths, **param):\n",
    "    \n",
    "    # run monte carlo till option maturity time T, retrieve r_T and discount rate R_T\n",
    "    _,R,r_strike = ZCB_Vasicek_MC(0, option_maturity, param['r0'], simu_paths, **param)\n",
    "    \n",
    "    # calculate value at strike using explicit method\n",
    "    discount_strike = exp(R)\n",
    "    \n",
    "    # vectorize the calculation of explicit price\n",
    "    vfunc = vectorize(ZCB_Vasicek)\n",
    "    value_strike = vfunc(option_maturity, bond_maturity, r_strike, **param)\n",
    "    \n",
    "    values = maximum(value_strike*face_value - strike_price, 0)\n",
    "    price = mean(multiply(values, discount_strike))\n",
    "    return price"
   ]
  },
  {
   "cell_type": "code",
   "execution_count": 38,
   "metadata": {},
   "outputs": [
    {
     "name": "stdout",
     "output_type": "stream",
     "text": [
      "The price of a European Call option on the pure discount bond in part (a) is 8.84810336163\n"
     ]
    }
   ],
   "source": [
    "p1c = ZCB_Euro_Call_Vasicek_MC(1000, 980, 0.5, 0.25, 50000, **param_P1)\n",
    "print('The price of a European Call option on the pure discount bond in part (a) is',p1c)"
   ]
  },
  {
   "cell_type": "markdown",
   "metadata": {},
   "source": [
    "### Explicit Formula for Answer Check"
   ]
  },
  {
   "cell_type": "code",
   "execution_count": 158,
   "metadata": {
    "collapsed": true
   },
   "outputs": [],
   "source": [
    "def cnd(x):\n",
    "    return (1.0/2)*(1+erf(x/sqrt(2)))\n",
    "\n",
    "def d1(PtS, PtT, sigma_p, L, K):\n",
    "    return log(L*PtS/K/PtT)/sigma_p + sigma_p / 2\n",
    "\n",
    "def ZCB_Euro_Call_Vasicek_analytical(t, T, S, rt, L, K, **param):\n",
    "    sigma = param['sigma']\n",
    "    kappa = param['kappa']\n",
    "    PtS = ZCB_Vasicek(t, S, rt, **param)\n",
    "    PtT = ZCB_Vasicek(t, T, rt, **param)\n",
    "    sigma_p = sqrt((1-exp(-2*kappa*(T-t)))/(2*kappa)) * \\\n",
    "             ((1-exp(-kappa*(S-T)))/kappa)*sigma\n",
    "    c = L * PtS * cnd(d1(PtS, PtT, sigma_p, L, K)) - \\\n",
    "        K * PtT * cnd(d1(PtS, PtT, sigma_p, L, K) - sigma_p)\n",
    "    return c"
   ]
  },
  {
   "cell_type": "code",
   "execution_count": 159,
   "metadata": {},
   "outputs": [
    {
     "name": "stdout",
     "output_type": "stream",
     "text": [
      "The explicit solved price of a European Call option on the pure discount bond in part (a) is 8.8833618642\n"
     ]
    }
   ],
   "source": [
    "p1c_analytial = ZCB_Euro_Call_Vasicek_analytical(0, 0.25, 0.5, param_P1['r0'], 1000, 980, **param_P1)\n",
    "print('The explicit solved price of a European Call option on the pure discount bond in part (a) is', p1c_analytial)"
   ]
  },
  {
   "cell_type": "markdown",
   "metadata": {},
   "source": [
    "## (d) Price European Call option on Coupon Paying Bond in part (b) using Monte Carlo Simulation at t = 0\n",
    "With option maturity of 3 months and strike price K = $980. Monte Carlo simulation for underlying bond price."
   ]
  },
  {
   "cell_type": "code",
   "execution_count": 182,
   "metadata": {
    "collapsed": true
   },
   "outputs": [],
   "source": [
    "def P1d(face_value, strike_price, bond_maturity, option_maturity,  \\\n",
    "        coupon, main_simu_paths, branch_simu_paths, **param):\n",
    "    \n",
    "    time_period = int(bond_maturity*2)\n",
    "    \n",
    "    T = linspace(0.5, bond_maturity, time_period)\n",
    "    coupons = append(ones(time_period-1) * coupon, face_value + coupon)\n",
    "\n",
    "    # 1 simulate to option maturity\n",
    "    _, R, r_strike = ZCB_Vasicek_MC(0, option_maturity, param['r0'], main_simu_paths, **param)\n",
    "    discount_strike = exp(R)\n",
    "    \n",
    "    # 2 use MC to price underlying bond\n",
    "    path_payoffs = asarray([])\n",
    "    for r_ in r_strike:\n",
    "        values = asarray([])\n",
    "        for T_i in T:\n",
    "            value, _, _ = ZCB_Vasicek_MC(option_maturity, T_i, r_, branch_simu_paths, **param)\n",
    "            values = append(values, value)\n",
    "        path_value = sum(multiply(coupons,values))\n",
    "        path_payoff = maximum(path_value-strike_price, 0)\n",
    "        \n",
    "        path_payoffs = append(path_payoffs, path_payoff)\n",
    "        \n",
    "    price = mean(multiply(path_payoffs, discount_strike))\n",
    "    return price"
   ]
  },
  {
   "cell_type": "code",
   "execution_count": 214,
   "metadata": {},
   "outputs": [
    {
     "data": {
      "text/plain": [
       "70.370510232438917"
      ]
     },
     "execution_count": 214,
     "metadata": {},
     "output_type": "execute_result"
    }
   ],
   "source": [
    "P1d(1000, 980, 4, 0.25, 30, 2000, 200, **param_P1)"
   ]
  },
  {
   "cell_type": "code",
   "execution_count": 184,
   "metadata": {
    "collapsed": true
   },
   "outputs": [],
   "source": [
    "def P1e(face_value, strike_price, bond_maturity, option_maturity,  \\\n",
    "        coupon, main_simu_paths, **param):\n",
    "    \n",
    "    time_period = int(bond_maturity*2)\n",
    "    \n",
    "    T = linspace(0.5, bond_maturity, time_period)\n",
    "    coupons = append(ones(time_period-1) * coupon, face_value + coupon)\n",
    "\n",
    "    # 1 simulate to option maturity\n",
    "    _, R, r_strike = ZCB_Vasicek_MC(0, option_maturity, param['r0'], main_simu_paths, **param)\n",
    "    discount_strike = exp(R)\n",
    "    \n",
    "    # 2 use MC to price underlying bond\n",
    "    path_payoffs = asarray([])\n",
    "    vfunc = vectorize(ZCB_Vasicek)\n",
    "    for r_ in r_strike:\n",
    "        values = vfunc(option_maturity, T, r_, **param)\n",
    "        path_value = sum(multiply(coupons,values))\n",
    "        path_payoff = maximum(path_value-strike_price, 0)\n",
    "        \n",
    "        path_payoffs = append(path_payoffs, path_payoff)\n",
    "        \n",
    "    price = mean(multiply(path_payoffs, discount_strike))\n",
    "    return price"
   ]
  },
  {
   "cell_type": "code",
   "execution_count": 213,
   "metadata": {},
   "outputs": [
    {
     "data": {
      "text/plain": [
       "82.50143783211368"
      ]
     },
     "execution_count": 213,
     "metadata": {},
     "output_type": "execute_result"
    }
   ],
   "source": [
    "P1e(1000, 980, 4, 0.25, 30, 2000, **param_P1)"
   ]
  },
  {
   "cell_type": "code",
   "execution_count": 209,
   "metadata": {},
   "outputs": [],
   "source": [
    "T = linspace(0.5, 4, 8)\n",
    "coupons = append(ones(7)*30, 1030)\n",
    "vfuncA = vectorize(factor_A)\n",
    "dA = vfuncA(0.25, T, **param_P1)\n",
    "vfuncB = vectorize(factor_B)\n",
    "dB = exp(-vfuncB(0.25, T, **param_P1))\n",
    "\n",
    "def price_r_star(r_star):\n",
    "    Ki = multiply(coupons, multiply(dA, power(dB, r_star)))\n",
    "    return sum(Ki)-980"
   ]
  },
  {
   "cell_type": "code",
   "execution_count": 211,
   "metadata": {},
   "outputs": [
    {
     "data": {
      "text/plain": [
       "82.139018428844764"
      ]
     },
     "execution_count": 211,
     "metadata": {},
     "output_type": "execute_result"
    }
   ],
   "source": [
    "root = optimize.newton(price_r_star, 0.05)\n",
    "vfunc3 = vectorize(ZCB_Vasicek)\n",
    "KKi = vfunc3(0.25, T, root, **param_P1) * coupons\n",
    "cbop = zeros(8)\n",
    "for i in range(8):\n",
    "    cbop[i] = ZCB_Euro_Call_Vasicek_analytical(0, 0.25, T[i], param_P1['r0'], coupons[i], KKi[i], **param_P1)\n",
    "\n",
    "price_C = sum(cbop)\n",
    "price_C"
   ]
  },
  {
   "cell_type": "code",
   "execution_count": 172,
   "metadata": {},
   "outputs": [
    {
     "data": {
      "text/plain": [
       "array([  29.15059153,   27.76824627,   26.68542697,   25.80057656,\n",
       "         25.04782369,   24.38445974,   23.78275471,  797.38012053])"
      ]
     },
     "execution_count": 172,
     "metadata": {},
     "output_type": "execute_result"
    }
   ],
   "source": []
  },
  {
   "cell_type": "markdown",
   "metadata": {},
   "source": [
    "# P2 Given the following SDE (CIR model)\n",
    "$$\n",
    "\\\\\n",
    "dr_t = \\kappa(\\overline{r} - r_t)dt + \\sigma \\sqrt{r_t} dW_t\n",
    "\\\\\n",
    "$$\n",
    "with $r_0 = 5\\%, \\sigma = 12\\%, \\kappa = 0.92, \\overline{r} = 5.5\\%$"
   ]
  },
  {
   "cell_type": "code",
   "execution_count": 216,
   "metadata": {
    "collapsed": true
   },
   "outputs": [],
   "source": [
    "param_P2 = {\"r0\": 0.05, \"sigma\": 0.12, \"kappa\": 0.92, \"r_bar\":0.055}"
   ]
  },
  {
   "cell_type": "code",
   "execution_count": 217,
   "metadata": {
    "collapsed": true
   },
   "outputs": [],
   "source": [
    "def ZCB_CIR_MC(t, T, rt, simu_paths, **param):\n",
    "    # Vasicek model parameters\n",
    "#     r0 = param['r0']\n",
    "    sigma = param['sigma']\n",
    "    kappa = param['kappa']\n",
    "    r_bar = param['r_bar']\n",
    "    \n",
    "    t_steps = int(floor(365*(T-t)))\n",
    "    dt = T / float(t_steps)\n",
    "    # mark the evaluation time step\n",
    "#     at_time_step = int(floor(365*at_time)) + 1\n",
    "    \n",
    "    # stochastic part\n",
    "    dW_t = sqrt(dt) * random.standard_normal((t_steps, simu_paths))\n",
    "    \n",
    "    # Vasicek dynamics to calculate short interest rate\n",
    "    r = zeros((t_steps+1, simu_paths))\n",
    "    r[0] = ones(simu_paths) * rt\n",
    "    for i in range(t_steps):\n",
    "        r[i+1] = r[i] + kappa*(r_bar - r[i])*dt + sigma*sqrt(r[i])*dW_t[i]\n",
    "    \n",
    "    # discount factor at the evaluation time\n",
    "    R = - dt * sum(r[1:], axis = 0)\n",
    "    \n",
    "    value = mean(exp(R)) # dollar value at time t\n",
    "    rT = r[-1]\n",
    "    return value, R, rT"
   ]
  },
  {
   "cell_type": "code",
   "execution_count": 290,
   "metadata": {},
   "outputs": [
    {
     "data": {
      "text/plain": [
       "(0.94966605717613273,\n",
       " array([-0.06577857, -0.05957871, -0.04104054, ..., -0.04567638,\n",
       "        -0.05492506, -0.06966266]),\n",
       " array([ 0.05166581,  0.09363765,  0.0305247 , ...,  0.02226651,\n",
       "         0.06032883,  0.06865502]))"
      ]
     },
     "execution_count": 290,
     "metadata": {},
     "output_type": "execute_result"
    }
   ],
   "source": [
    "ZCB_CIR_MC(0, 1, param_P2['r0'], 50000, **param_P2)"
   ]
  },
  {
   "cell_type": "code",
   "execution_count": 293,
   "metadata": {},
   "outputs": [],
   "source": [
    "def ZCB_CIR(t, T, rt, **param):\n",
    "    r_bar = param['r_bar']\n",
    "    kappa = param['kappa']\n",
    "    sigma = param['sigma']\n",
    "    \n",
    "    h1 = sqrt(kappa**2 + 2 * sigma**2)\n",
    "    h2 = (kappa + h1) / 2.\n",
    "    h3 = (2 * kappa * r_bar) / sigma**2\n",
    "    \n",
    "    B = (exp(h1 * (T-t)) - 1) / (h2 * (exp(h1 * (T-t)) - 1) + h1)\n",
    "    A = ((h1*exp(h2 * (T-t))) / (h2 * (exp(h1 * (T-t)) - 1) + h1))**h3\n",
    "    P = A*exp(-B*rt)\n",
    "    return P"
   ]
  },
  {
   "cell_type": "code",
   "execution_count": 292,
   "metadata": {},
   "outputs": [
    {
     "data": {
      "text/plain": [
       "0.94655127356327939"
      ]
     },
     "execution_count": 292,
     "metadata": {},
     "output_type": "execute_result"
    }
   ],
   "source": [
    "ZCB_CIR(0, 1, 0.055, **param_P2)"
   ]
  },
  {
   "cell_type": "code",
   "execution_count": 294,
   "metadata": {},
   "outputs": [],
   "source": [
    "def ZCB_Euro_Call_CIR_MC(face_value, strike_price, bond_maturity, option_maturity, \\\n",
    "                         main_simu_paths, **param):\n",
    "    \n",
    "    # run monte carlo till option maturity time T, retrieve r_T and discount rate R_T\n",
    "    _,R,r_strike = ZCB_CIR_MC(0, option_maturity, param['r0'], main_simu_paths, **param)\n",
    "    \n",
    "    # calculate value at strike using explicit method\n",
    "    discount_strike = exp(R)\n",
    "    \n",
    "    # vectorize the calculation of explicit price\n",
    "    vfunc = vectorize(ZCB_CIR)\n",
    "    values = vfunc(option_maturity, bond_maturity, r_strike, **param)\n",
    "#     values = asarray([])\n",
    "#     for r_ in r_strike:\n",
    "#         value,_,_ = ZCB_CIR_MC(option_maturity, bond_maturity, r_, branch_simu_paths, **param)\n",
    "#         values = append(values, value)\n",
    "        \n",
    "    payoffs = maximum(values*face_value - strike_price, 0)\n",
    "    price = mean(multiply(payoffs, discount_strike))\n",
    "    return price"
   ]
  },
  {
   "cell_type": "code",
   "execution_count": 295,
   "metadata": {},
   "outputs": [
    {
     "data": {
      "text/plain": [
       "0.39625010263465765"
      ]
     },
     "execution_count": 295,
     "metadata": {},
     "output_type": "execute_result"
    }
   ],
   "source": [
    "ZCB_Euro_Call_CIR_MC(1000, 980, 1, 0.5, 50000, **param_P2)"
   ]
  },
  {
   "cell_type": "code",
   "execution_count": 244,
   "metadata": {},
   "outputs": [
    {
     "name": "stdout",
     "output_type": "stream",
     "text": [
      "Price of the bond = 0.949645807023\n",
      "call option of the bond 0.00231586084505\n"
     ]
    }
   ],
   "source": [
    "def ZCB_Eurocall_CIR(T, S, L, K, **param):\n",
    "    r0 = param['r0']\n",
    "    r_bar = param['r_bar']\n",
    "    kappa = param['kappa']\n",
    "    sigma = param['sigma']\n",
    "    \n",
    "    \n",
    "    P0S = ZCB_CIR(0, S, r0, **param)\n",
    "    P0T = ZCB_CIR(0, T, r0, **param)\n",
    "    \n",
    "    h1 = sqrt(kappa**2 + 2 * sigma**2)\n",
    "    h2 = (kappa + h1) / 2.\n",
    "    h3 = (2 * kappa * r_bar) / sigma**2\n",
    "    \n",
    "    BTS = (exp(h1 * (S-T)) - 1) / (h2 * (exp(h1 * (S-T)) - 1) + h1)\n",
    "    ATS = ((h1*exp(h2 * (S-T))) / (h2 * (exp(h1 * (S-T)) - 1) + h1))**h3\n",
    "    \n",
    "    theta = sqrt(kappa**2 + 2*sigma**2)\n",
    "    phi = (2*theta) / (sigma**2 * (exp(theta*T) - 1))\n",
    "    psi = (kappa + theta) / sigma**2\n",
    "    rstar = log(ATS / K)/BTS\n",
    "    \n",
    "    \n",
    "# # interest rate parameters:\n",
    "# rzero = param_P2['r0']\n",
    "# rbar = param_P2['r_bar']\n",
    "# kappa = param_P2['kappa']\n",
    "# sigma = param_P2['sigma']\n",
    "\n",
    "# # Option parameters:        European Call\n",
    "# OM = 0.5  # Option Maturity in years\n",
    "# OBM = 1  # Option's Bond Maturity in years\n",
    "# K = 0.98\n",
    "\n",
    "# # Bond parameters:\n",
    "# BM = 1 # Bond Maturity in years\n",
    "\n",
    "\n",
    "# def PDB(r,M):\n",
    "#     P = exp(-r*M)\n",
    "#     return P\n",
    "\n",
    "# # Pure discount Bond price calculations:\n",
    "# def PBond(M,kappa,sigma,rbar,rzero):\n",
    "#     phi1 = sqrt(kappa ** 2 + 2 * sigma ** 2)\n",
    "#     phi2 = (kappa + phi1) / 2\n",
    "#     phi3 = (2 * kappa * rbar) / sigma ** 2\n",
    "#     B = (PDB(-phi1,M)-1)/(phi2*(PDB(-phi1,M)-1)+phi1)\n",
    "#     A = ((phi1*PDB(-phi2,M))/(phi2*(PDB(-phi1,M)-1)+phi1))**phi3\n",
    "#     P = A*PDB(B,rzero)\n",
    "#     return P\n",
    "\n",
    "# print('Price of the bond =',PBond(BM,kappa,sigma,rbar,rzero))\n",
    "\n",
    "# def B(M,kappa,sigma):\n",
    "#     phi1 = sqrt(kappa ** 2 + 2 * sigma ** 2)\n",
    "#     phi2 = (kappa + phi1) / 2\n",
    "#     B = (PDB(-phi1,M)-1)/(phi2*(PDB(-phi1,M)-1)+phi1)\n",
    "#     return B\n",
    "\n",
    "# def A(M,kappa,sigma,rbar):\n",
    "#     phi1 = sqrt(kappa ** 2 + 2 * sigma ** 2)\n",
    "#     phi2 = (kappa + phi1) / 2\n",
    "#     phi3 = (2 * kappa * rbar) / sigma ** 2\n",
    "#     A = ((phi1 * PDB(-phi2, M)) / (phi2 * (PDB(-phi1, M) - 1) + phi1)) ** phi3\n",
    "#     return A\n",
    "\n",
    "# sigmaR = ((sigma*sqrt(rzero))/BM)*B(BM,kappa,sigma) # volatility of the one-year spot rate\n",
    "# POB = PBond(OBM,kappa,sigma,rbar,rzero)\n",
    "# PO = PBond(OM,kappa,sigma,rbar,rzero)\n",
    "\n",
    "# theta = sqrt((kappa**2) + 2*(sigma**2))\n",
    "# phi = (2*theta)/((sigma**2)*(PDB(-theta,OM)-1))\n",
    "# Y = (kappa+theta)/sigma**2\n",
    "# BOB = B(OBM-OM,kappa,sigma)\n",
    "# AOB = A(OBM-OM,kappa,sigma,rbar)\n",
    "\n",
    "# d1 = 2*rzero*(phi+Y+BOB)\n",
    "# d2 = (4*kappa*rbar)/sigma**2\n",
    "# d3 = (2*(phi**2)*rzero*PDB(-theta,OM))/(phi+Y+BOB)\n",
    "# d4 = 2*rzero*(phi+Y)\n",
    "# d5 = (2*(phi**2)*rzero*PDB(-theta,OM))/(phi+Y)\n",
    "\n",
    "# C = POB*chi2.cdf(d1,d2,d3)-K*PO*chi2.cdf(d4,d2,d5)\n",
    "# print('call option of the bond',C)"
   ]
  },
  {
   "cell_type": "code",
   "execution_count": null,
   "metadata": {
    "collapsed": true
   },
   "outputs": [],
   "source": []
  },
  {
   "cell_type": "markdown",
   "metadata": {},
   "source": [
    "$$\n",
    "\\begin{align}\n",
    "dx_t &= -ax_t dt + \\sigma dW_t^1 \\\\\n",
    "dy_t &= -b y_t dt + \\eta dW_t^2 \\\\\n",
    "r_t &= x_t + y_t + \\phi_t\n",
    "\\end{align}\n",
    "$$"
   ]
  },
  {
   "cell_type": "code",
   "execution_count": 257,
   "metadata": {
    "collapsed": true
   },
   "outputs": [],
   "source": [
    "param_P3 = {'x0':0, 'y0':0, 'phi0':0.03, 'r0':0.03, 'rho':0.7, 'a':0.1, 'b':0.3, 'sigma':0.03, 'eta':0.08}"
   ]
  },
  {
   "cell_type": "code",
   "execution_count": 272,
   "metadata": {},
   "outputs": [],
   "source": [
    "def ZCB_G2PP_MC(t, T, xt, yt, rt, simu_paths, **param):\n",
    "#     x0 = param['x0']\n",
    "#     y0 = param['y0']\n",
    "    phi0 = param['phi0']\n",
    "#     r0 = param['r0']\n",
    "    rho = param['rho']\n",
    "    a = param['a']\n",
    "    b = param['b']\n",
    "    sigma = param['sigma']\n",
    "    eta = param['eta']\n",
    "    \n",
    "    t_span = T - t\n",
    "    t_steps = int(floor(t_span*365))\n",
    "    dt = t_span / t_steps\n",
    "    \n",
    "    z1 = random.standard_normal((t_steps, simu_paths))\n",
    "    z2 = random.standard_normal((t_steps, simu_paths))\n",
    "    dW1 = sqrt(dt) * z1\n",
    "    dW2 = sqrt(dt) * (rho * z1 + sqrt(1 - rho**2) * z2)\n",
    "\n",
    "    x = zeros((t_steps+1, simu_paths))\n",
    "    y = zeros((t_steps+1, simu_paths))\n",
    "\n",
    "    x[0] = ones(simu_paths)*xt\n",
    "    y[0] = ones(simu_paths)*yt\n",
    "\n",
    "    for i in range(t_steps):\n",
    "        x[i+1] = x[i] - a*x[i]*dt + sigma*dW1[i]\n",
    "        y[i+1] = y[i] - b*y[i]*dt + eta*dW2[i]\n",
    "    r = x + y + phi0\n",
    "    R = exp(-dt*sum(r[1:], axis = 0))\n",
    "    value = mean(exp(-dt*sum(r[1:], axis = 0)))\n",
    "    return value, R, r[-1], x[-1], y[-1]"
   ]
  },
  {
   "cell_type": "code",
   "execution_count": 288,
   "metadata": {},
   "outputs": [
    {
     "data": {
      "text/plain": [
       "1.721009090440454"
      ]
     },
     "execution_count": 288,
     "metadata": {},
     "output_type": "execute_result"
    }
   ],
   "source": [
    "def ZCB_G2PP_EuroPut_MC(face_value, strike_price, t, T, S, xt, yt, rt, main_simu_paths, branch_simu_paths, **param):\n",
    "    _, R_strike, r_strike, x_strike, y_strike = ZCB_G2PP_MC(t, T, xt, yt, rt, main_simu_paths, **param)\n",
    "    \n",
    "    values = asarray([])\n",
    "    for index, r_ in enumerate(r_strike):\n",
    "        value,_,_,_,_ = ZCB_G2PP_MC(T, S, x_strike[index], y_strike[index], r_, branch_simu_paths, **param)\n",
    "        values = append(values, value)\n",
    "    payoffs = maximum(strike_price - multiply(values, face_value), 0)\n",
    "    price = mean(multiply(R_strike, payoffs))\n",
    "    return price\n",
    "ZCB_G2PP_EuroPut_MC(1000, 950, 0, 0.5, 1., param_P3['x0'],param_P3['y0'],param_P3['r0'], 1000, 800, **param_P3)"
   ]
  },
  {
   "cell_type": "code",
   "execution_count": 281,
   "metadata": {},
   "outputs": [
    {
     "data": {
      "text/plain": [
       "1.8609598749597467"
      ]
     },
     "execution_count": 281,
     "metadata": {},
     "output_type": "execute_result"
    }
   ],
   "source": [
    "def ZCB_G2PP(T, **param):\n",
    "    x0 = param['x0']\n",
    "    y0 = param['y0']\n",
    "    phi0 = param['phi0']\n",
    "    r0 = param['r0']\n",
    "    rho = param['rho']\n",
    "    a = param['a']\n",
    "    b = param['b']\n",
    "    sigma = param['sigma']\n",
    "    eta = param['eta']\n",
    "    \n",
    "    V1 = sigma**2/a**2*(T+2/a*exp(-a*T)-exp(-2*a*T)/(2*a)-1.5/a)\n",
    "    V2 = eta**2/b**2*(T+2/b*exp(-b*T)-exp(-2*b*T)/(2*b)-1.5/b)\n",
    "    V3 = 2*rho*sigma*eta/(a*b)*(T+(exp(-a*T)-1)/a+(exp(-b*T)-1)/b-(exp(-(a+b)*T)-1)/(a+b))\n",
    "    V0T = V1+V2+V3\n",
    "    \n",
    "    P1 = T*phi0\n",
    "    P2 = (1-exp(-a*T))/a*x0\n",
    "    P3 = (1-exp(-b*T))/b*y0\n",
    "    P0T = exp(-P1-P2-P3+0.5*V0T)\n",
    "    return P0T\n",
    "\n",
    "def PP(coef, t, T):\n",
    "    return (1 - exp(-coef*(T-t)))\n",
    "def ZCB_G2PP_Europut(T, S, L, K, **param):\n",
    "    rho = param['rho']\n",
    "    a = param['a']\n",
    "    b = param['b']\n",
    "    sigma = param['sigma']\n",
    "    eta = param['eta']\n",
    "    \n",
    "    s1 = sigma**2 / (2*a**3) * (PP(a, T, S))**2 * PP(2*a, 0, T)\n",
    "    s2 = eta**2 / (2*b**3) * (PP(b, T, S))**2 * PP(2*b, 0, T)\n",
    "    s3 = 2*rho * (sigma*eta)/(a*b*(a+b)) * PP(a, T, S) * PP(b, T, S) * PP(a+b, 0, T)\n",
    "    \n",
    "    big_sigma = sqrt(s1+s2+s3)\n",
    "    \n",
    "    P0S = ZCB_G2PP(S, **param)\n",
    "    P0T = ZCB_G2PP(T, **param)\n",
    "    \n",
    "    d1 = (log(L*P0S / (K*P0T))) / big_sigma + 0.5 * big_sigma\n",
    "    d2 = d1 - big_sigma\n",
    "    \n",
    "    price = -L*P0S*cnd(-d1) + P0T*K*cnd(-d2)\n",
    "    return price\n",
    "\n",
    "ZCB_G2PP_Europut(0.5, 1., 1000, 950, **param_P3)"
   ]
  },
  {
   "cell_type": "code",
   "execution_count": null,
   "metadata": {
    "collapsed": true
   },
   "outputs": [],
   "source": []
  }
 ],
 "metadata": {
  "kernelspec": {
   "display_name": "Python 3",
   "language": "python",
   "name": "python3"
  },
  "language_info": {
   "codemirror_mode": {
    "name": "ipython",
    "version": 3
   },
   "file_extension": ".py",
   "mimetype": "text/x-python",
   "name": "python",
   "nbconvert_exporter": "python",
   "pygments_lexer": "ipython3",
   "version": "3.6.1"
  }
 },
 "nbformat": 4,
 "nbformat_minor": 2
}
